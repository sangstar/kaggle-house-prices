{
 "cells": [
  {
   "cell_type": "code",
   "execution_count": 177,
   "source": [
    "import pandas as pd\n",
    "import numpy as np"
   ],
   "outputs": [],
   "metadata": {}
  },
  {
   "cell_type": "code",
   "execution_count": 178,
   "source": [
    "df = pd.read_csv('files/train.csv')\n",
    "df = df.sample(frac = 1)"
   ],
   "outputs": [],
   "metadata": {}
  },
  {
   "cell_type": "code",
   "execution_count": null,
   "source": [],
   "outputs": [],
   "metadata": {}
  },
  {
   "cell_type": "code",
   "execution_count": 179,
   "source": [
    "df.describe()"
   ],
   "outputs": [
    {
     "output_type": "execute_result",
     "data": {
      "text/plain": [
       "                Id   MSSubClass  LotFrontage        LotArea  OverallQual  \\\n",
       "count  1460.000000  1460.000000  1201.000000    1460.000000  1460.000000   \n",
       "mean    730.500000    56.897260    70.049958   10516.828082     6.099315   \n",
       "std     421.610009    42.300571    24.284752    9981.264932     1.382997   \n",
       "min       1.000000    20.000000    21.000000    1300.000000     1.000000   \n",
       "25%     365.750000    20.000000    59.000000    7553.500000     5.000000   \n",
       "50%     730.500000    50.000000    69.000000    9478.500000     6.000000   \n",
       "75%    1095.250000    70.000000    80.000000   11601.500000     7.000000   \n",
       "max    1460.000000   190.000000   313.000000  215245.000000    10.000000   \n",
       "\n",
       "       OverallCond    YearBuilt  YearRemodAdd   MasVnrArea   BsmtFinSF1  ...  \\\n",
       "count  1460.000000  1460.000000   1460.000000  1452.000000  1460.000000  ...   \n",
       "mean      5.575342  1971.267808   1984.865753   103.685262   443.639726  ...   \n",
       "std       1.112799    30.202904     20.645407   181.066207   456.098091  ...   \n",
       "min       1.000000  1872.000000   1950.000000     0.000000     0.000000  ...   \n",
       "25%       5.000000  1954.000000   1967.000000     0.000000     0.000000  ...   \n",
       "50%       5.000000  1973.000000   1994.000000     0.000000   383.500000  ...   \n",
       "75%       6.000000  2000.000000   2004.000000   166.000000   712.250000  ...   \n",
       "max       9.000000  2010.000000   2010.000000  1600.000000  5644.000000  ...   \n",
       "\n",
       "        WoodDeckSF  OpenPorchSF  EnclosedPorch    3SsnPorch  ScreenPorch  \\\n",
       "count  1460.000000  1460.000000    1460.000000  1460.000000  1460.000000   \n",
       "mean     94.244521    46.660274      21.954110     3.409589    15.060959   \n",
       "std     125.338794    66.256028      61.119149    29.317331    55.757415   \n",
       "min       0.000000     0.000000       0.000000     0.000000     0.000000   \n",
       "25%       0.000000     0.000000       0.000000     0.000000     0.000000   \n",
       "50%       0.000000    25.000000       0.000000     0.000000     0.000000   \n",
       "75%     168.000000    68.000000       0.000000     0.000000     0.000000   \n",
       "max     857.000000   547.000000     552.000000   508.000000   480.000000   \n",
       "\n",
       "          PoolArea       MiscVal       MoSold       YrSold      SalePrice  \n",
       "count  1460.000000   1460.000000  1460.000000  1460.000000    1460.000000  \n",
       "mean      2.758904     43.489041     6.321918  2007.815753  180921.195890  \n",
       "std      40.177307    496.123024     2.703626     1.328095   79442.502883  \n",
       "min       0.000000      0.000000     1.000000  2006.000000   34900.000000  \n",
       "25%       0.000000      0.000000     5.000000  2007.000000  129975.000000  \n",
       "50%       0.000000      0.000000     6.000000  2008.000000  163000.000000  \n",
       "75%       0.000000      0.000000     8.000000  2009.000000  214000.000000  \n",
       "max     738.000000  15500.000000    12.000000  2010.000000  755000.000000  \n",
       "\n",
       "[8 rows x 38 columns]"
      ],
      "text/html": [
       "<div>\n",
       "<style scoped>\n",
       "    .dataframe tbody tr th:only-of-type {\n",
       "        vertical-align: middle;\n",
       "    }\n",
       "\n",
       "    .dataframe tbody tr th {\n",
       "        vertical-align: top;\n",
       "    }\n",
       "\n",
       "    .dataframe thead th {\n",
       "        text-align: right;\n",
       "    }\n",
       "</style>\n",
       "<table border=\"1\" class=\"dataframe\">\n",
       "  <thead>\n",
       "    <tr style=\"text-align: right;\">\n",
       "      <th></th>\n",
       "      <th>Id</th>\n",
       "      <th>MSSubClass</th>\n",
       "      <th>LotFrontage</th>\n",
       "      <th>LotArea</th>\n",
       "      <th>OverallQual</th>\n",
       "      <th>OverallCond</th>\n",
       "      <th>YearBuilt</th>\n",
       "      <th>YearRemodAdd</th>\n",
       "      <th>MasVnrArea</th>\n",
       "      <th>BsmtFinSF1</th>\n",
       "      <th>...</th>\n",
       "      <th>WoodDeckSF</th>\n",
       "      <th>OpenPorchSF</th>\n",
       "      <th>EnclosedPorch</th>\n",
       "      <th>3SsnPorch</th>\n",
       "      <th>ScreenPorch</th>\n",
       "      <th>PoolArea</th>\n",
       "      <th>MiscVal</th>\n",
       "      <th>MoSold</th>\n",
       "      <th>YrSold</th>\n",
       "      <th>SalePrice</th>\n",
       "    </tr>\n",
       "  </thead>\n",
       "  <tbody>\n",
       "    <tr>\n",
       "      <th>count</th>\n",
       "      <td>1460.000000</td>\n",
       "      <td>1460.000000</td>\n",
       "      <td>1201.000000</td>\n",
       "      <td>1460.000000</td>\n",
       "      <td>1460.000000</td>\n",
       "      <td>1460.000000</td>\n",
       "      <td>1460.000000</td>\n",
       "      <td>1460.000000</td>\n",
       "      <td>1452.000000</td>\n",
       "      <td>1460.000000</td>\n",
       "      <td>...</td>\n",
       "      <td>1460.000000</td>\n",
       "      <td>1460.000000</td>\n",
       "      <td>1460.000000</td>\n",
       "      <td>1460.000000</td>\n",
       "      <td>1460.000000</td>\n",
       "      <td>1460.000000</td>\n",
       "      <td>1460.000000</td>\n",
       "      <td>1460.000000</td>\n",
       "      <td>1460.000000</td>\n",
       "      <td>1460.000000</td>\n",
       "    </tr>\n",
       "    <tr>\n",
       "      <th>mean</th>\n",
       "      <td>730.500000</td>\n",
       "      <td>56.897260</td>\n",
       "      <td>70.049958</td>\n",
       "      <td>10516.828082</td>\n",
       "      <td>6.099315</td>\n",
       "      <td>5.575342</td>\n",
       "      <td>1971.267808</td>\n",
       "      <td>1984.865753</td>\n",
       "      <td>103.685262</td>\n",
       "      <td>443.639726</td>\n",
       "      <td>...</td>\n",
       "      <td>94.244521</td>\n",
       "      <td>46.660274</td>\n",
       "      <td>21.954110</td>\n",
       "      <td>3.409589</td>\n",
       "      <td>15.060959</td>\n",
       "      <td>2.758904</td>\n",
       "      <td>43.489041</td>\n",
       "      <td>6.321918</td>\n",
       "      <td>2007.815753</td>\n",
       "      <td>180921.195890</td>\n",
       "    </tr>\n",
       "    <tr>\n",
       "      <th>std</th>\n",
       "      <td>421.610009</td>\n",
       "      <td>42.300571</td>\n",
       "      <td>24.284752</td>\n",
       "      <td>9981.264932</td>\n",
       "      <td>1.382997</td>\n",
       "      <td>1.112799</td>\n",
       "      <td>30.202904</td>\n",
       "      <td>20.645407</td>\n",
       "      <td>181.066207</td>\n",
       "      <td>456.098091</td>\n",
       "      <td>...</td>\n",
       "      <td>125.338794</td>\n",
       "      <td>66.256028</td>\n",
       "      <td>61.119149</td>\n",
       "      <td>29.317331</td>\n",
       "      <td>55.757415</td>\n",
       "      <td>40.177307</td>\n",
       "      <td>496.123024</td>\n",
       "      <td>2.703626</td>\n",
       "      <td>1.328095</td>\n",
       "      <td>79442.502883</td>\n",
       "    </tr>\n",
       "    <tr>\n",
       "      <th>min</th>\n",
       "      <td>1.000000</td>\n",
       "      <td>20.000000</td>\n",
       "      <td>21.000000</td>\n",
       "      <td>1300.000000</td>\n",
       "      <td>1.000000</td>\n",
       "      <td>1.000000</td>\n",
       "      <td>1872.000000</td>\n",
       "      <td>1950.000000</td>\n",
       "      <td>0.000000</td>\n",
       "      <td>0.000000</td>\n",
       "      <td>...</td>\n",
       "      <td>0.000000</td>\n",
       "      <td>0.000000</td>\n",
       "      <td>0.000000</td>\n",
       "      <td>0.000000</td>\n",
       "      <td>0.000000</td>\n",
       "      <td>0.000000</td>\n",
       "      <td>0.000000</td>\n",
       "      <td>1.000000</td>\n",
       "      <td>2006.000000</td>\n",
       "      <td>34900.000000</td>\n",
       "    </tr>\n",
       "    <tr>\n",
       "      <th>25%</th>\n",
       "      <td>365.750000</td>\n",
       "      <td>20.000000</td>\n",
       "      <td>59.000000</td>\n",
       "      <td>7553.500000</td>\n",
       "      <td>5.000000</td>\n",
       "      <td>5.000000</td>\n",
       "      <td>1954.000000</td>\n",
       "      <td>1967.000000</td>\n",
       "      <td>0.000000</td>\n",
       "      <td>0.000000</td>\n",
       "      <td>...</td>\n",
       "      <td>0.000000</td>\n",
       "      <td>0.000000</td>\n",
       "      <td>0.000000</td>\n",
       "      <td>0.000000</td>\n",
       "      <td>0.000000</td>\n",
       "      <td>0.000000</td>\n",
       "      <td>0.000000</td>\n",
       "      <td>5.000000</td>\n",
       "      <td>2007.000000</td>\n",
       "      <td>129975.000000</td>\n",
       "    </tr>\n",
       "    <tr>\n",
       "      <th>50%</th>\n",
       "      <td>730.500000</td>\n",
       "      <td>50.000000</td>\n",
       "      <td>69.000000</td>\n",
       "      <td>9478.500000</td>\n",
       "      <td>6.000000</td>\n",
       "      <td>5.000000</td>\n",
       "      <td>1973.000000</td>\n",
       "      <td>1994.000000</td>\n",
       "      <td>0.000000</td>\n",
       "      <td>383.500000</td>\n",
       "      <td>...</td>\n",
       "      <td>0.000000</td>\n",
       "      <td>25.000000</td>\n",
       "      <td>0.000000</td>\n",
       "      <td>0.000000</td>\n",
       "      <td>0.000000</td>\n",
       "      <td>0.000000</td>\n",
       "      <td>0.000000</td>\n",
       "      <td>6.000000</td>\n",
       "      <td>2008.000000</td>\n",
       "      <td>163000.000000</td>\n",
       "    </tr>\n",
       "    <tr>\n",
       "      <th>75%</th>\n",
       "      <td>1095.250000</td>\n",
       "      <td>70.000000</td>\n",
       "      <td>80.000000</td>\n",
       "      <td>11601.500000</td>\n",
       "      <td>7.000000</td>\n",
       "      <td>6.000000</td>\n",
       "      <td>2000.000000</td>\n",
       "      <td>2004.000000</td>\n",
       "      <td>166.000000</td>\n",
       "      <td>712.250000</td>\n",
       "      <td>...</td>\n",
       "      <td>168.000000</td>\n",
       "      <td>68.000000</td>\n",
       "      <td>0.000000</td>\n",
       "      <td>0.000000</td>\n",
       "      <td>0.000000</td>\n",
       "      <td>0.000000</td>\n",
       "      <td>0.000000</td>\n",
       "      <td>8.000000</td>\n",
       "      <td>2009.000000</td>\n",
       "      <td>214000.000000</td>\n",
       "    </tr>\n",
       "    <tr>\n",
       "      <th>max</th>\n",
       "      <td>1460.000000</td>\n",
       "      <td>190.000000</td>\n",
       "      <td>313.000000</td>\n",
       "      <td>215245.000000</td>\n",
       "      <td>10.000000</td>\n",
       "      <td>9.000000</td>\n",
       "      <td>2010.000000</td>\n",
       "      <td>2010.000000</td>\n",
       "      <td>1600.000000</td>\n",
       "      <td>5644.000000</td>\n",
       "      <td>...</td>\n",
       "      <td>857.000000</td>\n",
       "      <td>547.000000</td>\n",
       "      <td>552.000000</td>\n",
       "      <td>508.000000</td>\n",
       "      <td>480.000000</td>\n",
       "      <td>738.000000</td>\n",
       "      <td>15500.000000</td>\n",
       "      <td>12.000000</td>\n",
       "      <td>2010.000000</td>\n",
       "      <td>755000.000000</td>\n",
       "    </tr>\n",
       "  </tbody>\n",
       "</table>\n",
       "<p>8 rows × 38 columns</p>\n",
       "</div>"
      ]
     },
     "metadata": {},
     "execution_count": 179
    }
   ],
   "metadata": {}
  },
  {
   "cell_type": "markdown",
   "source": [
    "# Check for NaN columns..\n"
   ],
   "metadata": {}
  },
  {
   "cell_type": "code",
   "execution_count": 180,
   "source": [
    "for cols in df.columns:\n",
    "    if df[cols].isnull().any():\n",
    "        print(cols)"
   ],
   "outputs": [
    {
     "output_type": "stream",
     "name": "stdout",
     "text": [
      "LotFrontage\n",
      "Alley\n",
      "MasVnrType\n",
      "MasVnrArea\n",
      "BsmtQual\n",
      "BsmtCond\n",
      "BsmtExposure\n",
      "BsmtFinType1\n",
      "BsmtFinType2\n",
      "Electrical\n",
      "FireplaceQu\n",
      "GarageType\n",
      "GarageYrBlt\n",
      "GarageFinish\n",
      "GarageQual\n",
      "GarageCond\n",
      "PoolQC\n",
      "Fence\n",
      "MiscFeature\n"
     ]
    }
   ],
   "metadata": {}
  },
  {
   "cell_type": "markdown",
   "source": [
    "# Let's go through how I might want to treat each column, before I get into dealing with NaN's..."
   ],
   "metadata": {}
  },
  {
   "cell_type": "markdown",
   "source": [
    "## MSSubClass\n",
    "\n",
    "The values it takes are kind of weird considering its categorical data. If I decide to use a decision tree-based algorithm then it's fine. If not I'll need to at least normailize this one."
   ],
   "metadata": {}
  },
  {
   "cell_type": "markdown",
   "source": [
    "## MSZoning \n",
    "Should be one-hot encoded."
   ],
   "metadata": {}
  },
  {
   "cell_type": "markdown",
   "source": [
    "## LotFrontage, LotArea\n",
    "Numerical data. We're dealing with a bunch of different units here, and if I wasn't working with a decision tree I'd really need to be careful to normalize and standardize the data."
   ],
   "metadata": {}
  },
  {
   "cell_type": "markdown",
   "source": [
    "## Street, Alley, LandContour, LotConfig, Neighborhood, Condition1, Condition2, BldgType, HouseStyle\n",
    "Categorical. To be one-hot encoded."
   ],
   "metadata": {}
  },
  {
   "cell_type": "markdown",
   "source": [
    "## OverallCond and OverallQual\n",
    "Numerical."
   ],
   "metadata": {}
  },
  {
   "cell_type": "markdown",
   "source": [
    "## YearBuilt, YearRemodAdd\n",
    "Numerical data. Need to think about how I should treat this. Could maybe base them off of how many days ago they were built / remodeled."
   ],
   "metadata": {}
  },
  {
   "cell_type": "markdown",
   "source": [
    "## RoofStyle, RoofMatl, Exterior1st, Exterior2nd, MasVnrType\n",
    "All categorical."
   ],
   "metadata": {}
  },
  {
   "cell_type": "markdown",
   "source": [
    "## MasVnrArea\n",
    "Numerical."
   ],
   "metadata": {}
  },
  {
   "cell_type": "markdown",
   "source": [
    "## LotShape, Utilities, LandSlope, ExterQual, ExterCond\n",
    "Categorical, but admits an ordered set, with Excellent > Good > Average/Typical etc.. so can convert to numerical to save on columns"
   ],
   "metadata": {}
  },
  {
   "cell_type": "markdown",
   "source": [
    "## Foundation\n",
    "Categorical."
   ],
   "metadata": {}
  },
  {
   "cell_type": "markdown",
   "source": [
    "## BsmtQual, BsmtCond, BsmtExposure, BsmtFinType1\n",
    "Categorical, but again admitting an ordered set, so should be converted into numerical data to save on columns."
   ],
   "metadata": {}
  },
  {
   "cell_type": "markdown",
   "source": [
    "## BsmtFinSF1\n",
    "Numerical."
   ],
   "metadata": {}
  },
  {
   "cell_type": "markdown",
   "source": [
    "## BsmtFinType2\n",
    "Categorical, but admitting an ordered set -- convert to numeric."
   ],
   "metadata": {}
  },
  {
   "cell_type": "markdown",
   "source": [
    "## BsmtFinSF2, BsmtUnfSF, TotalBsmtSF\n",
    "Numerical."
   ],
   "metadata": {}
  },
  {
   "cell_type": "markdown",
   "source": [
    "## Heating\n",
    "Categorical."
   ],
   "metadata": {}
  },
  {
   "cell_type": "markdown",
   "source": [
    "## HeatingQC\n",
    "Categorical, but ordered set so convert to numeric."
   ],
   "metadata": {}
  },
  {
   "cell_type": "markdown",
   "source": [
    "## CentralAir, Electrical\n",
    "Categorical."
   ],
   "metadata": {}
  },
  {
   "cell_type": "markdown",
   "source": [
    "## 1stFlrSF, 2ndFlrSF, LowQualFinSF, GrLivArea, BsmtFullBath,  BsmtHalfBath, FullBath, HalfBath, Bedroom, Kitchen\n",
    "Numerical"
   ],
   "metadata": {}
  },
  {
   "cell_type": "markdown",
   "source": [
    "## KitchenQual\n",
    "Categoric, but admits ordered set, so convert to numerical."
   ],
   "metadata": {}
  },
  {
   "cell_type": "markdown",
   "source": [
    "## TotRmsAbvGrd\n",
    "Numerical."
   ],
   "metadata": {}
  },
  {
   "cell_type": "markdown",
   "source": [
    "## Functional\n",
    "Categorical, but admits ordered set. Convert to numerical."
   ],
   "metadata": {}
  },
  {
   "cell_type": "markdown",
   "source": [
    "## Fireplaces\n",
    "Numerical."
   ],
   "metadata": {}
  },
  {
   "cell_type": "markdown",
   "source": [
    "## FireplaceQu\n",
    "Categorical -- convertable to numerical."
   ],
   "metadata": {}
  },
  {
   "cell_type": "markdown",
   "source": [
    "## GarageType\n",
    "Categorical."
   ],
   "metadata": {}
  },
  {
   "cell_type": "markdown",
   "source": [
    "## GarageFinish\n",
    "Categorical -- convertable to numerical."
   ],
   "metadata": {}
  },
  {
   "cell_type": "markdown",
   "source": [
    "## GarageYrBlt\n",
    "Possibly convert to 'how many days ago'."
   ],
   "metadata": {}
  },
  {
   "cell_type": "markdown",
   "source": [
    "## GarageCars, GarageArea\n",
    "Numerical."
   ],
   "metadata": {}
  },
  {
   "cell_type": "markdown",
   "source": [
    "## GarageQual, GarageCond\n",
    "Categorical -- convertable to numerical."
   ],
   "metadata": {}
  },
  {
   "cell_type": "markdown",
   "source": [
    "## PavedDrive\n",
    "I think this admits an ordered set in terms of 'paved-ness'. So possibly convertable to numerical, although could be safe and just keep it categorical -- only like 3 unique values."
   ],
   "metadata": {}
  },
  {
   "cell_type": "markdown",
   "source": [
    "## WoodDeckSF, OpenPorchSF, EnclosedPorch, 3SsnPorch, ScreenPorch, PoolArea\n",
    "Numerical."
   ],
   "metadata": {}
  },
  {
   "cell_type": "markdown",
   "source": [
    "## PoolQC, Fence\n",
    "Categorical -- convertable to numerical."
   ],
   "metadata": {}
  },
  {
   "cell_type": "markdown",
   "source": [
    "## MiscFeature\n",
    "Categorical."
   ],
   "metadata": {}
  },
  {
   "cell_type": "markdown",
   "source": [
    "## MiscVal\n",
    "Numerical."
   ],
   "metadata": {}
  },
  {
   "cell_type": "markdown",
   "source": [
    "## MoSold , YrSold\n",
    "MoSold might not be worth the effort to include. I won't want to one-hot encode 12 columns for each month, and I doubt the month something was sold can be worth the 12 columns I'd be costing the training data. YrSold I can express in terms of 'days since the present'. I could maybe express MoSold as numerical data of values between 1 and 12. But I don't think that's justifiable because it's weird to say that month 2 > month 1 or something."
   ],
   "metadata": {}
  },
  {
   "cell_type": "markdown",
   "source": [
    "## SaleType, SaleCondition\n",
    "Categorical."
   ],
   "metadata": {}
  },
  {
   "cell_type": "markdown",
   "source": [
    "# Okay, with that, here are my next steps:\n",
    "\n",
    "There isn't a whole lot of rows to this data, so if I add too many columns we start worrying about big-p, little-n issues. I need to try and impute my NaN's instead of deleting those rows so that the little-n doesn't get even smaller. I'll also really want to favor converting categorical data that admits an ordered set into numerical data so I can save up on columns.\n",
    "1. Create a function to deal with missing NaN values sample-by-sample by selecting a subset of the data that shares as many characteristics as possible with a sample and picking the most likely value to impute given this. \n",
    "2. Create a function that converts categorical-but-numerical-convertable columns into numeric columns.\n",
    "3. Deal with time-series columns."
   ],
   "metadata": {}
  },
  {
   "cell_type": "markdown",
   "source": [
    "It might be worth trying to find similar columns by one-hot encoding and normalizing data, and seeing which samples have the highest cosine similarity to the one in question.. I'd need to normalize numerical data, or else different magnitudes would have disproportionate influence on the the cosine similarity.."
   ],
   "metadata": {}
  },
  {
   "cell_type": "markdown",
   "source": [
    "# One-hot encoding categorical data"
   ],
   "metadata": {}
  },
  {
   "cell_type": "markdown",
   "source": [
    "Also going to drop the MoSold column."
   ],
   "metadata": {}
  },
  {
   "cell_type": "code",
   "execution_count": 181,
   "source": [
    "df = df.drop(columns = ['MoSold','Id'])"
   ],
   "outputs": [],
   "metadata": {}
  },
  {
   "cell_type": "code",
   "execution_count": 182,
   "source": [
    "to_one_hot = [\n",
    "    'MiscFeature',\n",
    "    'SaleType',\n",
    "    'SaleCondition',\n",
    "    'CentralAir', \n",
    "    'Electrical',\n",
    "    'Heating',\n",
    "    'Foundation',\n",
    "    'RoofStyle', \n",
    "    'RoofMatl', \n",
    "    'Exterior1st', \n",
    "    'Exterior2nd', \n",
    "    'MasVnrType',\n",
    "    'Street', \n",
    "    'Alley', \n",
    "    'LandContour', \n",
    "    'LotConfig', \n",
    "    'Neighborhood', \n",
    "    'Condition1', \n",
    "    'Condition2', \n",
    "    'BldgType', \n",
    "    'HouseStyle',\n",
    "    'MSZoning',\n",
    "    'MSSubClass',\n",
    "    'GarageType',\n",
    "    'PavedDrive'\n",
    "    ]"
   ],
   "outputs": [],
   "metadata": {}
  },
  {
   "cell_type": "code",
   "execution_count": 183,
   "source": [
    "time_series_columns = ['YrSold','YearBuilt','YearRemodAdd','GarageYrBlt']"
   ],
   "outputs": [],
   "metadata": {}
  },
  {
   "cell_type": "markdown",
   "source": [
    "And now for the data I want to make numeric."
   ],
   "metadata": {}
  },
  {
   "cell_type": "code",
   "execution_count": 184,
   "source": [
    "numerical = [\n",
    "    'MiscVal',\n",
    "    'WoodDeckSF', \n",
    "    'OpenPorchSF', \n",
    "    'EnclosedPorch', \n",
    "    '3SsnPorch', \n",
    "    'ScreenPorch', \n",
    "    'PoolArea',\n",
    "    'GarageCars', \n",
    "    'GarageArea',\n",
    "    'Fireplaces',\n",
    "    'TotRmsAbvGrd',\n",
    "    '1stFlrSF', \n",
    "    '2ndFlrSF', \n",
    "    'LowQualFinSF', \n",
    "    'GrLivArea', \n",
    "    'BsmtFullBath',  \n",
    "    'BsmtHalfBath', \n",
    "    'FullBath', \n",
    "    'HalfBath', \n",
    "    'BedroomAbvGr', \n",
    "    'KitchenAbvGr',\n",
    "    'BsmtFinSF2', \n",
    "    'BsmtUnfSF', \n",
    "    'TotalBsmtSF',\n",
    "    'BsmtFinSF1',\n",
    "    'MasVnrArea',\n",
    "    'LotFrontage', \n",
    "    'LotArea',\n",
    "    'OverallCond',\n",
    "    'OverallQual',\n",
    "      \n",
    "]"
   ],
   "outputs": [],
   "metadata": {}
  },
  {
   "cell_type": "code",
   "execution_count": 185,
   "source": [
    "columns_so_far = to_one_hot + time_series_columns + numerical"
   ],
   "outputs": [],
   "metadata": {}
  },
  {
   "cell_type": "code",
   "execution_count": 186,
   "source": [
    "full_columns = list(df.columns)"
   ],
   "outputs": [],
   "metadata": {}
  },
  {
   "cell_type": "code",
   "execution_count": 187,
   "source": [
    "to_numerical = list(set(columns_so_far).symmetric_difference(full_columns))"
   ],
   "outputs": [],
   "metadata": {}
  },
  {
   "cell_type": "code",
   "execution_count": 188,
   "source": [
    "to_numerical.remove('SalePrice')"
   ],
   "outputs": [],
   "metadata": {}
  },
  {
   "cell_type": "code",
   "execution_count": 197,
   "source": [
    "to_numerical"
   ],
   "outputs": [
    {
     "output_type": "execute_result",
     "data": {
      "text/plain": [
       "['GarageFinish',\n",
       " 'Functional',\n",
       " 'GarageCond',\n",
       " 'HeatingQC',\n",
       " 'BsmtCond',\n",
       " 'PoolQC',\n",
       " 'KitchenQual',\n",
       " 'Utilities',\n",
       " 'ExterCond',\n",
       " 'BsmtExposure',\n",
       " 'ExterQual',\n",
       " 'GarageQual',\n",
       " 'Fence',\n",
       " 'LotShape',\n",
       " 'FireplaceQu',\n",
       " 'LandSlope',\n",
       " 'BsmtFinType1',\n",
       " 'BsmtFinType2',\n",
       " 'BsmtQual']"
      ]
     },
     "metadata": {},
     "execution_count": 197
    }
   ],
   "metadata": {}
  },
  {
   "cell_type": "markdown",
   "source": [
    "## One-hot encode the categorical columns"
   ],
   "metadata": {}
  },
  {
   "cell_type": "code",
   "execution_count": 190,
   "source": [
    "df = pd.get_dummies(df,columns = to_one_hot)"
   ],
   "outputs": [],
   "metadata": {}
  },
  {
   "cell_type": "markdown",
   "source": [
    "## Convert the to_numerical data to numerical"
   ],
   "metadata": {}
  },
  {
   "cell_type": "code",
   "execution_count": 191,
   "source": [
    "def conv_to_numerical(df, col, ordered_categories):\n",
    "    ordering = list(reversed(range(len(ordered_categories))))\n",
    "    mappings = dict(list(zip(ordered_categories, ordering)))\n",
    "    df[col] = [mappings[x] for x in df[col]]\n",
    "    return df"
   ],
   "outputs": [],
   "metadata": {}
  },
  {
   "cell_type": "code",
   "execution_count": 192,
   "source": [
    "list(df[to_numerical[0]].unique())"
   ],
   "outputs": [
    {
     "output_type": "execute_result",
     "data": {
      "text/plain": [
       "['Unf', 'RFn', 'Fin', nan]"
      ]
     },
     "metadata": {},
     "execution_count": 192
    }
   ],
   "metadata": {}
  },
  {
   "cell_type": "markdown",
   "source": [
    "# Normalize the numerical columns for the cosine similarity steps\n",
    "Normalizing is not generally a good idea for a decision tree-based model, so I'll probably make it separate to df."
   ],
   "metadata": {}
  },
  {
   "cell_type": "code",
   "execution_count": 193,
   "source": [
    "from sklearn import preprocessing\n",
    "\n",
    "min_max_scaler = preprocessing.MinMaxScaler()\n",
    "\n",
    "cos_sim_df = df.copy()\n",
    "#cos_sim_df = cos_sim_df.drop(columns = numerical)\n",
    "cos_sim_df[numerical] = min_max_scaler.fit_transform(df[numerical])"
   ],
   "outputs": [],
   "metadata": {}
  },
  {
   "cell_type": "code",
   "execution_count": 194,
   "source": [
    "cos_sim_df"
   ],
   "outputs": [
    {
     "output_type": "execute_result",
     "data": {
      "text/plain": [
       "      LotFrontage   LotArea LotShape Utilities LandSlope  OverallQual  \\\n",
       "124      0.092466  0.073584      IR1    AllPub       Gtl     0.555556   \n",
       "159      0.386986  0.084498      IR1    AllPub       Gtl     0.666667   \n",
       "1074     0.181507  0.033915      Reg    AllPub       Gtl     0.666667   \n",
       "1263     0.133562  0.057094      Reg    AllPub       Gtl     0.555556   \n",
       "107      0.099315  0.021968      Reg    AllPub       Gtl     0.444444   \n",
       "...           ...       ...      ...       ...       ...          ...   \n",
       "888      0.253425  0.068078      IR1    AllPub       Mod     0.777778   \n",
       "1030          NaN  0.027026      Reg    AllPub       Gtl     0.444444   \n",
       "391      0.171233  0.050990      IR1    AllPub       Gtl     0.555556   \n",
       "369           NaN  0.039870      IR1    AllPub       Gtl     0.444444   \n",
       "809      0.236301  0.031784      Reg    AllPub       Gtl     0.444444   \n",
       "\n",
       "      OverallCond  YearBuilt  YearRemodAdd  MasVnrArea  ... MSSubClass_190  \\\n",
       "124         0.500       1979          1998       0.000  ...              0   \n",
       "159         0.500       2005          2006       0.285  ...              0   \n",
       "1074        0.500       2006          2006       0.000  ...              0   \n",
       "1263        0.625       1919          1950       0.000  ...              0   \n",
       "107         0.500       1948          1950       0.000  ...              0   \n",
       "...           ...        ...           ...         ...  ...            ...   \n",
       "888         0.625       1970          1970       0.000  ...              0   \n",
       "1030        0.875       1916          1995       0.000  ...              1   \n",
       "391         0.500       2001          2002       0.000  ...              0   \n",
       "369         0.750       1959          2006       0.000  ...              0   \n",
       "809         0.500       1898          1965       0.000  ...              0   \n",
       "\n",
       "     GarageType_2Types GarageType_Attchd GarageType_Basment  \\\n",
       "124                  0                 1                  0   \n",
       "159                  0                 1                  0   \n",
       "1074                 0                 1                  0   \n",
       "1263                 0                 0                  0   \n",
       "107                  0                 0                  0   \n",
       "...                ...               ...                ...   \n",
       "888                  0                 1                  0   \n",
       "1030                 0                 0                  0   \n",
       "391                  0                 0                  0   \n",
       "369                  0                 0                  0   \n",
       "809                  0                 0                  0   \n",
       "\n",
       "     GarageType_BuiltIn GarageType_CarPort  GarageType_Detchd PavedDrive_N  \\\n",
       "124                   0                  0                  0            0   \n",
       "159                   0                  0                  0            0   \n",
       "1074                  0                  0                  0            0   \n",
       "1263                  0                  0                  1            1   \n",
       "107                   0                  0                  1            0   \n",
       "...                 ...                ...                ...          ...   \n",
       "888                   0                  0                  0            0   \n",
       "1030                  0                  0                  0            1   \n",
       "391                   1                  0                  0            0   \n",
       "369                   0                  0                  1            0   \n",
       "809                   0                  0                  1            1   \n",
       "\n",
       "      PavedDrive_P  PavedDrive_Y  \n",
       "124              0             1  \n",
       "159              0             1  \n",
       "1074             0             1  \n",
       "1263             0             0  \n",
       "107              0             1  \n",
       "...            ...           ...  \n",
       "888              0             1  \n",
       "1030             0             0  \n",
       "391              0             1  \n",
       "369              0             1  \n",
       "809              0             0  \n",
       "\n",
       "[1460 rows x 238 columns]"
      ],
      "text/html": [
       "<div>\n",
       "<style scoped>\n",
       "    .dataframe tbody tr th:only-of-type {\n",
       "        vertical-align: middle;\n",
       "    }\n",
       "\n",
       "    .dataframe tbody tr th {\n",
       "        vertical-align: top;\n",
       "    }\n",
       "\n",
       "    .dataframe thead th {\n",
       "        text-align: right;\n",
       "    }\n",
       "</style>\n",
       "<table border=\"1\" class=\"dataframe\">\n",
       "  <thead>\n",
       "    <tr style=\"text-align: right;\">\n",
       "      <th></th>\n",
       "      <th>LotFrontage</th>\n",
       "      <th>LotArea</th>\n",
       "      <th>LotShape</th>\n",
       "      <th>Utilities</th>\n",
       "      <th>LandSlope</th>\n",
       "      <th>OverallQual</th>\n",
       "      <th>OverallCond</th>\n",
       "      <th>YearBuilt</th>\n",
       "      <th>YearRemodAdd</th>\n",
       "      <th>MasVnrArea</th>\n",
       "      <th>...</th>\n",
       "      <th>MSSubClass_190</th>\n",
       "      <th>GarageType_2Types</th>\n",
       "      <th>GarageType_Attchd</th>\n",
       "      <th>GarageType_Basment</th>\n",
       "      <th>GarageType_BuiltIn</th>\n",
       "      <th>GarageType_CarPort</th>\n",
       "      <th>GarageType_Detchd</th>\n",
       "      <th>PavedDrive_N</th>\n",
       "      <th>PavedDrive_P</th>\n",
       "      <th>PavedDrive_Y</th>\n",
       "    </tr>\n",
       "  </thead>\n",
       "  <tbody>\n",
       "    <tr>\n",
       "      <th>124</th>\n",
       "      <td>0.092466</td>\n",
       "      <td>0.073584</td>\n",
       "      <td>IR1</td>\n",
       "      <td>AllPub</td>\n",
       "      <td>Gtl</td>\n",
       "      <td>0.555556</td>\n",
       "      <td>0.500</td>\n",
       "      <td>1979</td>\n",
       "      <td>1998</td>\n",
       "      <td>0.000</td>\n",
       "      <td>...</td>\n",
       "      <td>0</td>\n",
       "      <td>0</td>\n",
       "      <td>1</td>\n",
       "      <td>0</td>\n",
       "      <td>0</td>\n",
       "      <td>0</td>\n",
       "      <td>0</td>\n",
       "      <td>0</td>\n",
       "      <td>0</td>\n",
       "      <td>1</td>\n",
       "    </tr>\n",
       "    <tr>\n",
       "      <th>159</th>\n",
       "      <td>0.386986</td>\n",
       "      <td>0.084498</td>\n",
       "      <td>IR1</td>\n",
       "      <td>AllPub</td>\n",
       "      <td>Gtl</td>\n",
       "      <td>0.666667</td>\n",
       "      <td>0.500</td>\n",
       "      <td>2005</td>\n",
       "      <td>2006</td>\n",
       "      <td>0.285</td>\n",
       "      <td>...</td>\n",
       "      <td>0</td>\n",
       "      <td>0</td>\n",
       "      <td>1</td>\n",
       "      <td>0</td>\n",
       "      <td>0</td>\n",
       "      <td>0</td>\n",
       "      <td>0</td>\n",
       "      <td>0</td>\n",
       "      <td>0</td>\n",
       "      <td>1</td>\n",
       "    </tr>\n",
       "    <tr>\n",
       "      <th>1074</th>\n",
       "      <td>0.181507</td>\n",
       "      <td>0.033915</td>\n",
       "      <td>Reg</td>\n",
       "      <td>AllPub</td>\n",
       "      <td>Gtl</td>\n",
       "      <td>0.666667</td>\n",
       "      <td>0.500</td>\n",
       "      <td>2006</td>\n",
       "      <td>2006</td>\n",
       "      <td>0.000</td>\n",
       "      <td>...</td>\n",
       "      <td>0</td>\n",
       "      <td>0</td>\n",
       "      <td>1</td>\n",
       "      <td>0</td>\n",
       "      <td>0</td>\n",
       "      <td>0</td>\n",
       "      <td>0</td>\n",
       "      <td>0</td>\n",
       "      <td>0</td>\n",
       "      <td>1</td>\n",
       "    </tr>\n",
       "    <tr>\n",
       "      <th>1263</th>\n",
       "      <td>0.133562</td>\n",
       "      <td>0.057094</td>\n",
       "      <td>Reg</td>\n",
       "      <td>AllPub</td>\n",
       "      <td>Gtl</td>\n",
       "      <td>0.555556</td>\n",
       "      <td>0.625</td>\n",
       "      <td>1919</td>\n",
       "      <td>1950</td>\n",
       "      <td>0.000</td>\n",
       "      <td>...</td>\n",
       "      <td>0</td>\n",
       "      <td>0</td>\n",
       "      <td>0</td>\n",
       "      <td>0</td>\n",
       "      <td>0</td>\n",
       "      <td>0</td>\n",
       "      <td>1</td>\n",
       "      <td>1</td>\n",
       "      <td>0</td>\n",
       "      <td>0</td>\n",
       "    </tr>\n",
       "    <tr>\n",
       "      <th>107</th>\n",
       "      <td>0.099315</td>\n",
       "      <td>0.021968</td>\n",
       "      <td>Reg</td>\n",
       "      <td>AllPub</td>\n",
       "      <td>Gtl</td>\n",
       "      <td>0.444444</td>\n",
       "      <td>0.500</td>\n",
       "      <td>1948</td>\n",
       "      <td>1950</td>\n",
       "      <td>0.000</td>\n",
       "      <td>...</td>\n",
       "      <td>0</td>\n",
       "      <td>0</td>\n",
       "      <td>0</td>\n",
       "      <td>0</td>\n",
       "      <td>0</td>\n",
       "      <td>0</td>\n",
       "      <td>1</td>\n",
       "      <td>0</td>\n",
       "      <td>0</td>\n",
       "      <td>1</td>\n",
       "    </tr>\n",
       "    <tr>\n",
       "      <th>...</th>\n",
       "      <td>...</td>\n",
       "      <td>...</td>\n",
       "      <td>...</td>\n",
       "      <td>...</td>\n",
       "      <td>...</td>\n",
       "      <td>...</td>\n",
       "      <td>...</td>\n",
       "      <td>...</td>\n",
       "      <td>...</td>\n",
       "      <td>...</td>\n",
       "      <td>...</td>\n",
       "      <td>...</td>\n",
       "      <td>...</td>\n",
       "      <td>...</td>\n",
       "      <td>...</td>\n",
       "      <td>...</td>\n",
       "      <td>...</td>\n",
       "      <td>...</td>\n",
       "      <td>...</td>\n",
       "      <td>...</td>\n",
       "      <td>...</td>\n",
       "    </tr>\n",
       "    <tr>\n",
       "      <th>888</th>\n",
       "      <td>0.253425</td>\n",
       "      <td>0.068078</td>\n",
       "      <td>IR1</td>\n",
       "      <td>AllPub</td>\n",
       "      <td>Mod</td>\n",
       "      <td>0.777778</td>\n",
       "      <td>0.625</td>\n",
       "      <td>1970</td>\n",
       "      <td>1970</td>\n",
       "      <td>0.000</td>\n",
       "      <td>...</td>\n",
       "      <td>0</td>\n",
       "      <td>0</td>\n",
       "      <td>1</td>\n",
       "      <td>0</td>\n",
       "      <td>0</td>\n",
       "      <td>0</td>\n",
       "      <td>0</td>\n",
       "      <td>0</td>\n",
       "      <td>0</td>\n",
       "      <td>1</td>\n",
       "    </tr>\n",
       "    <tr>\n",
       "      <th>1030</th>\n",
       "      <td>NaN</td>\n",
       "      <td>0.027026</td>\n",
       "      <td>Reg</td>\n",
       "      <td>AllPub</td>\n",
       "      <td>Gtl</td>\n",
       "      <td>0.444444</td>\n",
       "      <td>0.875</td>\n",
       "      <td>1916</td>\n",
       "      <td>1995</td>\n",
       "      <td>0.000</td>\n",
       "      <td>...</td>\n",
       "      <td>1</td>\n",
       "      <td>0</td>\n",
       "      <td>0</td>\n",
       "      <td>0</td>\n",
       "      <td>0</td>\n",
       "      <td>0</td>\n",
       "      <td>0</td>\n",
       "      <td>1</td>\n",
       "      <td>0</td>\n",
       "      <td>0</td>\n",
       "    </tr>\n",
       "    <tr>\n",
       "      <th>391</th>\n",
       "      <td>0.171233</td>\n",
       "      <td>0.050990</td>\n",
       "      <td>IR1</td>\n",
       "      <td>AllPub</td>\n",
       "      <td>Gtl</td>\n",
       "      <td>0.555556</td>\n",
       "      <td>0.500</td>\n",
       "      <td>2001</td>\n",
       "      <td>2002</td>\n",
       "      <td>0.000</td>\n",
       "      <td>...</td>\n",
       "      <td>0</td>\n",
       "      <td>0</td>\n",
       "      <td>0</td>\n",
       "      <td>0</td>\n",
       "      <td>1</td>\n",
       "      <td>0</td>\n",
       "      <td>0</td>\n",
       "      <td>0</td>\n",
       "      <td>0</td>\n",
       "      <td>1</td>\n",
       "    </tr>\n",
       "    <tr>\n",
       "      <th>369</th>\n",
       "      <td>NaN</td>\n",
       "      <td>0.039870</td>\n",
       "      <td>IR1</td>\n",
       "      <td>AllPub</td>\n",
       "      <td>Gtl</td>\n",
       "      <td>0.444444</td>\n",
       "      <td>0.750</td>\n",
       "      <td>1959</td>\n",
       "      <td>2006</td>\n",
       "      <td>0.000</td>\n",
       "      <td>...</td>\n",
       "      <td>0</td>\n",
       "      <td>0</td>\n",
       "      <td>0</td>\n",
       "      <td>0</td>\n",
       "      <td>0</td>\n",
       "      <td>0</td>\n",
       "      <td>1</td>\n",
       "      <td>0</td>\n",
       "      <td>0</td>\n",
       "      <td>1</td>\n",
       "    </tr>\n",
       "    <tr>\n",
       "      <th>809</th>\n",
       "      <td>0.236301</td>\n",
       "      <td>0.031784</td>\n",
       "      <td>Reg</td>\n",
       "      <td>AllPub</td>\n",
       "      <td>Gtl</td>\n",
       "      <td>0.444444</td>\n",
       "      <td>0.500</td>\n",
       "      <td>1898</td>\n",
       "      <td>1965</td>\n",
       "      <td>0.000</td>\n",
       "      <td>...</td>\n",
       "      <td>0</td>\n",
       "      <td>0</td>\n",
       "      <td>0</td>\n",
       "      <td>0</td>\n",
       "      <td>0</td>\n",
       "      <td>0</td>\n",
       "      <td>1</td>\n",
       "      <td>1</td>\n",
       "      <td>0</td>\n",
       "      <td>0</td>\n",
       "    </tr>\n",
       "  </tbody>\n",
       "</table>\n",
       "<p>1460 rows × 238 columns</p>\n",
       "</div>"
      ]
     },
     "metadata": {},
     "execution_count": 194
    }
   ],
   "metadata": {}
  },
  {
   "cell_type": "code",
   "execution_count": 195,
   "source": [
    "def smart_fillna(column):\n",
    "    "
   ],
   "outputs": [
    {
     "output_type": "error",
     "ename": "SyntaxError",
     "evalue": "unexpected EOF while parsing (800286481.py, line 2)",
     "traceback": [
      "\u001b[0;36m  File \u001b[0;32m\"/var/folders/gv/zxch4f5j72d3kxhj77v41_l00000gn/T/ipykernel_21479/800286481.py\"\u001b[0;36m, line \u001b[0;32m2\u001b[0m\n\u001b[0;31m    \u001b[0m\n\u001b[0m    ^\u001b[0m\n\u001b[0;31mSyntaxError\u001b[0m\u001b[0;31m:\u001b[0m unexpected EOF while parsing\n"
     ]
    }
   ],
   "metadata": {}
  }
 ],
 "metadata": {
  "orig_nbformat": 4,
  "language_info": {
   "name": "python",
   "version": "3.8.5",
   "mimetype": "text/x-python",
   "codemirror_mode": {
    "name": "ipython",
    "version": 3
   },
   "pygments_lexer": "ipython3",
   "nbconvert_exporter": "python",
   "file_extension": ".py"
  },
  "kernelspec": {
   "name": "python3",
   "display_name": "Python 3.8.5 64-bit ('toxic': conda)"
  },
  "interpreter": {
   "hash": "c0ac4971e360b0f2dea732e840eb0c9c41456636b7685f248e181635d8e4811b"
  }
 },
 "nbformat": 4,
 "nbformat_minor": 2
}